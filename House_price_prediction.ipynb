{
 "cells": [
  {
   "cell_type": "code",
   "execution_count": 11,
   "id": "917c7d7b",
   "metadata": {},
   "outputs": [],
   "source": [
    "# importing necessary libraries\n",
    "import pandas as pd\n",
    "import seaborn as sns\n",
    "from sklearn.linear_model import LinearRegression\n",
    "from sklearn.metrics import mean_squared_error, r2_score\n",
    "from sklearn.model_selection import train_test_split\n",
    "from sklearn.preprocessing import PolynomialFeatures, StandardScaler"
   ]
  },
  {
   "cell_type": "code",
   "execution_count": 8,
   "id": "8c8e858e",
   "metadata": {},
   "outputs": [],
   "source": [
    "# importing the required dataset \"Housing.csv\"\n",
    "dataset = pd.read_csv(r\"D:\\OneDrive\\Desktop\\Notes\\BHARAT\\Housing.csv\")\n",
    "\n",
    "# coverting categorical data into numeric values\n",
    "dataset['mainroad'].replace(['no', 'yes'], [0, 1], inplace=True)\n",
    "dataset['guestroom'].replace(['no', 'yes'], [0, 1], inplace=True)\n",
    "dataset['basement'].replace(['no', 'yes'], [0, 1], inplace=True)\n",
    "dataset['hotwaterheating'].replace(['no', 'yes'], [0, 1], inplace=True)\n",
    "dataset['airconditioning'].replace(['no', 'yes'], [0, 1], inplace=True)\n",
    "dataset['prefarea'].replace(['no', 'yes'], [0, 1], inplace=True)\n",
    "dataset['furnishingstatus'].replace(['unfurnished', 'semi-furnished', 'furnished'], [0, 1, 2], inplace=True)"
   ]
  },
  {
   "cell_type": "code",
   "execution_count": 12,
   "id": "f2809a51",
   "metadata": {},
   "outputs": [
    {
     "data": {
      "image/png": "[encoded data removed]",
      "text/plain": [
       "<Figure size 640x480 with 1 Axes>"
      ]
     },
     "metadata": {},
     "output_type": "display_data"
    }
   ],
   "source": [
    "# box plot to identify outliers\n",
    "sns.boxplot(dataset['price'])\n",
    "\n",
    "# dataset outlier removal\n",
    "Q1 = dataset.quantile(0.25)\n",
    "Q3 = dataset.quantile(0.75)\n",
    "IQR = Q3 - Q1\n",
    "lower_bound = Q1 - 1.5 * IQR\n",
    "upper_bound = Q3 + 1.5 * IQR\n",
    "dataset = dataset[dataset.apply(lambda x: ((x >= lower_bound) & (x <= upper_bound)).all(), axis=1)]\n",
    "\n",
    "X = dataset.drop('price', axis=1)\n",
    "y = dataset['price']\n",
    "\n",
    "# removing non-linear relationships\n",
    "poly_features = PolynomialFeatures(degree=2, include_bias=False)\n",
    "X_poly = poly_features.fit_transform(X)\n",
    "\n",
    "#scaling\n",
    "scaler = StandardScaler()\n",
    "X_scaled = scaler.fit_transform(X_poly)"
   ]
  },
  {
   "cell_type": "code",
   "execution_count": 13,
   "id": "e5a9430f",
   "metadata": {},
   "outputs": [
    {
     "name": "stdout",
     "output_type": "stream",
     "text": [
      "Mean Squared Error: 860866752121.3251\n",
      "R-squared: 0.503596486240351\n"
     ]
    }
   ],
   "source": [
    "# Split the dataset into training and testing sets\n",
    "X_train, X_test, y_train, y_test = train_test_split(X, y, test_size=0.2, random_state=42)\n",
    "\n",
    "# Create a linear regression model\n",
    "model = LinearRegression()\n",
    "\n",
    "# Train the model\n",
    "model.fit(X_train, y_train)\n",
    "\n",
    "# Make predictions on the test set\n",
    "y_pred = model.predict(X_test)\n",
    "\n",
    "# Evaluate the model\n",
    "mse = mean_squared_error(y_test, y_pred)\n",
    "r2 = r2_score(y_test, y_pred)\n",
    "\n",
    "# Print the evaluation metrics\n",
    "print('Mean Squared Error:', mse)\n",
    "print('R-squared:', r2)"
   ]
  },
  {
   "cell_type": "code",
   "execution_count": null,
   "id": "205b7727",
   "metadata": {},
   "outputs": [],
   "source": []
  }
 ],
 "metadata": {
  "kernelspec": {
   "display_name": "Python 3 (ipykernel)",
   "language": "python",
   "name": "python3"
  },
  "language_info": {
   "codemirror_mode": {
    "name": "ipython",
    "version": 3
   },
   "file_extension": ".py",
   "mimetype": "text/x-python",
   "name": "python",
   "nbconvert_exporter": "python",
   "pygments_lexer": "ipython3",
   "version": "3.8.5"
  }
 },
 "nbformat": 4,
 "nbformat_minor": 5
}
